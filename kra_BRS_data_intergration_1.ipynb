{
 "cells": [
  {
   "cell_type": "markdown",
   "id": "7d1f413d",
   "metadata": {},
   "source": [
    "### step 1"
   ]
  },
  {
   "cell_type": "code",
   "execution_count": 1,
   "id": "f52bc3bb",
   "metadata": {},
   "outputs": [
    {
     "name": "stdout",
     "output_type": "stream",
     "text": [
      "Collecting cx_Oracle\n",
      "  Downloading cx_Oracle-8.3.0-cp38-cp38-win_amd64.whl (219 kB)\n",
      "     ------------------------------------ 219.3/219.3 kB 889.8 kB/s eta 0:00:00\n",
      "Installing collected packages: cx_Oracle\n",
      "Successfully installed cx_Oracle-8.3.0\n",
      "Note: you may need to restart the kernel to use updated packages.\n"
     ]
    }
   ],
   "source": [
    "#installing the Oracle Sql library to enable access\n",
    "pip install cx_Oracle"
   ]
  },
  {
   "cell_type": "code",
   "execution_count": 7,
   "id": "89155754",
   "metadata": {},
   "outputs": [],
   "source": [
    "#importing the library so as to access Oracle SQL database\n",
    "import cx_Oracle"
   ]
  },
  {
   "cell_type": "code",
   "execution_count": 11,
   "id": "7cbb0dcd",
   "metadata": {},
   "outputs": [
    {
     "name": "stdout",
     "output_type": "stream",
     "text": [
      "Collecting pymysql\n",
      "  Using cached PyMySQL-1.1.0-py3-none-any.whl (44 kB)\n",
      "Installing collected packages: pymysql\n",
      "Successfully installed pymysql-1.1.0\n",
      "Note: you may need to restart the kernel to use updated packages.\n"
     ]
    }
   ],
   "source": [
    "pip install --user pymysql"
   ]
  },
  {
   "cell_type": "code",
   "execution_count": 14,
   "id": "d1a02c45",
   "metadata": {},
   "outputs": [
    {
     "name": "stdout",
     "output_type": "stream",
     "text": [
      "Requirement already satisfied: pymysql in c:\\users\\user\\appdata\\roaming\\python\\python38\\site-packages (1.1.0)\n",
      "Note: you may need to restart the kernel to use updated packages.\n"
     ]
    }
   ],
   "source": [
    "pip install pymysql"
   ]
  },
  {
   "cell_type": "code",
   "execution_count": 9,
   "id": "84963747",
   "metadata": {},
   "outputs": [
    {
     "name": "stdout",
     "output_type": "stream",
     "text": [
      "Collecting requests\n",
      "  Using cached requests-2.31.0-py3-none-any.whl (62 kB)\n",
      "Collecting urllib3<3,>=1.21.1\n",
      "  Downloading urllib3-2.0.7-py3-none-any.whl (124 kB)\n",
      "     ------------------------------------ 124.2/124.2 kB 561.4 kB/s eta 0:00:00\n",
      "Collecting idna<4,>=2.5\n",
      "  Using cached idna-3.4-py3-none-any.whl (61 kB)\n",
      "Collecting certifi>=2017.4.17\n",
      "  Using cached certifi-2023.7.22-py3-none-any.whl (158 kB)\n",
      "Collecting charset-normalizer<4,>=2\n",
      "  Downloading charset_normalizer-3.3.2-cp38-cp38-win_amd64.whl (99 kB)\n",
      "     ---------------------------------------- 99.6/99.6 kB 1.1 MB/s eta 0:00:00\n",
      "Installing collected packages: urllib3, idna, charset-normalizer, certifi, requests\n",
      "Successfully installed certifi-2023.7.22 charset-normalizer-3.3.2 idna-3.4 requests-2.31.0 urllib3-2.0.7\n",
      "Note: you may need to restart the kernel to use updated packages.\n"
     ]
    }
   ],
   "source": [
    "pip install requests"
   ]
  },
  {
   "cell_type": "code",
   "execution_count": 16,
   "id": "b6d18f1a",
   "metadata": {},
   "outputs": [],
   "source": [
    "import json\n",
    "import requests\n",
    "import os"
   ]
  },
  {
   "cell_type": "code",
   "execution_count": 17,
   "id": "8b568854",
   "metadata": {},
   "outputs": [
    {
     "name": "stdout",
     "output_type": "stream",
     "text": [
      "JSON data successfully stored in data.json\n"
     ]
    }
   ],
   "source": [
    "# Define the URL\n",
    "url = \"https://brs.ecitizen.go.ke/api/businesses?registration_number=C.112728\"\n",
    "username = \"62982ca9a761e71d97627fe6dc89f96b\"  # Replace with your actual username\n",
    "password = \"gejnixwq6zcks3yaxatogcl4wgbbkk2pkzlcmwhggjxxaag2hyfq====\"   # Replace with your actual password\n",
    "\n",
    "# Make a GET request to fetch the JSON data with authentication\n",
    "response = requests.get(url, auth=(username, password))\n",
    "\n",
    "# Check if the request was successful\n",
    "if response.status_code == 200:\n",
    "    # Load the JSON data\n",
    "    data = response.json()\n",
    "\n",
    "    # Define the file path\n",
    "    file_path = 'data.json'\n",
    "\n",
    "    # Store the JSON data in a file\n",
    "    with open(file_path, 'w') as f:\n",
    "        json.dump(data, f, indent=4)\n",
    "        print(f\"JSON data successfully stored in {file_path}\")\n",
    "else:\n",
    "    print(f\"Failed to fetch data from the URL. Status code: {response.status_code}\")\n",
    "\n"
   ]
  },
  {
   "cell_type": "code",
   "execution_count": 20,
   "id": "dc554db7",
   "metadata": {},
   "outputs": [
    {
     "ename": "DatabaseError",
     "evalue": "ORA-12545: Connect failed because target host or object does not exist",
     "output_type": "error",
     "traceback": [
      "\u001b[1;31m---------------------------------------------------------------------------\u001b[0m",
      "\u001b[1;31mDatabaseError\u001b[0m                             Traceback (most recent call last)",
      "\u001b[1;32mc:\\Users\\USER\\Desktop\\brs- kra integration\\kra_BRS_data_intergration_1.ipynb Cell 9\u001b[0m line \u001b[0;36m1\n\u001b[0;32m      <a href='vscode-notebook-cell:/c%3A/Users/USER/Desktop/brs-%20kra%20integration/kra_BRS_data_intergration_1.ipynb#W5sZmlsZQ%3D%3D?line=8'>9</a>\u001b[0m \u001b[39m# Set up the Oracle connection\u001b[39;00m\n\u001b[0;32m     <a href='vscode-notebook-cell:/c%3A/Users/USER/Desktop/brs-%20kra%20integration/kra_BRS_data_intergration_1.ipynb#W5sZmlsZQ%3D%3D?line=9'>10</a>\u001b[0m dsn \u001b[39m=\u001b[39m cx_Oracle\u001b[39m.\u001b[39mmakedsn(host\u001b[39m=\u001b[39m\u001b[39m'\u001b[39m\u001b[39mDM03-SCAN.KRA.GOV\u001b[39m\u001b[39m'\u001b[39m, port\u001b[39m=\u001b[39m\u001b[39m1521\u001b[39m, sid\u001b[39m=\u001b[39m\u001b[39m'\u001b[39m\u001b[39mDWDB\u001b[39m\u001b[39m'\u001b[39m)  \u001b[39m# Replace with your SID\u001b[39;00m\n\u001b[1;32m---> <a href='vscode-notebook-cell:/c%3A/Users/USER/Desktop/brs-%20kra%20integration/kra_BRS_data_intergration_1.ipynb#W5sZmlsZQ%3D%3D?line=10'>11</a>\u001b[0m connection \u001b[39m=\u001b[39m cx_Oracle\u001b[39m.\u001b[39;49mconnect(user\u001b[39m=\u001b[39;49m\u001b[39m'\u001b[39;49m\u001b[39mT37133139\u001b[39;49m\u001b[39m'\u001b[39;49m, password\u001b[39m=\u001b[39;49m\u001b[39m'\u001b[39;49m\u001b[39mDOtieno#2023\u001b[39;49m\u001b[39m'\u001b[39;49m, dsn\u001b[39m=\u001b[39;49mdsn)\n\u001b[0;32m     <a href='vscode-notebook-cell:/c%3A/Users/USER/Desktop/brs-%20kra%20integration/kra_BRS_data_intergration_1.ipynb#W5sZmlsZQ%3D%3D?line=11'>12</a>\u001b[0m cursor \u001b[39m=\u001b[39m connection\u001b[39m.\u001b[39mcursor()\n\u001b[0;32m     <a href='vscode-notebook-cell:/c%3A/Users/USER/Desktop/brs-%20kra%20integration/kra_BRS_data_intergration_1.ipynb#W5sZmlsZQ%3D%3D?line=13'>14</a>\u001b[0m \u001b[39m# Iterate through the JSON data and insert it into the Oracle database\u001b[39;00m\n",
      "\u001b[1;31mDatabaseError\u001b[0m: ORA-12545: Connect failed because target host or object does not exist"
     ]
    }
   ],
   "source": [
    "import cx_Oracle\n",
    "\n",
    "\n",
    "# Load the JSON data from the file\n",
    "with open('data.json', 'r') as json_file:\n",
    "    json_data = json_file.read()\n",
    "    json_obj = json.loads(json_data)\n",
    "\n",
    "# Set up the Oracle connection\n",
    "dsn = cx_Oracle.makedsn(host='', port=1521, sid='')  # Replace with your SID\n",
    "connection = cx_Oracle.connect(user='', password='', dsn=dsn)\n",
    "cursor = connection.cursor()\n",
    "\n",
    "# Iterate through the JSON data and insert it into the Oracle database\n",
    "for record in json_obj['records']:\n",
    "    status = record['status']\n",
    "    registration_date = record['registration_date']\n",
    "    postal_address = record['postal_address']\n",
    "    physical_address = record['physical_address']\n",
    "    phone_number = record['phone_number']\n",
    "    kra_pin = record['kra_pin']\n",
    "    email = record['email']\n",
    "    business_name = record['business_name']\n",
    "\n",
    "    # Oracle insertion query\n",
    "    sql = f\"\"\"INSERT INTO your_table_name (status, registration_date, postal_address, physical_address, phone_number, kra_pin, email, business_name)\n",
    "             VALUES (:status, TO_DATE(:registration_date, 'DD Month YYYY'), :postal_address, :physical_address, :phone_number, :kra_pin, :email, :business_name)\"\"\"\n",
    "    data = {\n",
    "        'status': status,\n",
    "        'registration_date': registration_date,\n",
    "        'postal_address': postal_address,\n",
    "        'physical_address': physical_address,\n",
    "        'phone_number': phone_number,\n",
    "        'kra_pin': kra_pin,\n",
    "        'email': email,\n",
    "        'business_name': business_name\n",
    "    }\n",
    "\n",
    "    # Execute the query\n",
    "    cursor.execute(sql, data)\n",
    "\n",
    "# Commit the changes\n",
    "connection.commit()\n",
    "\n",
    "# Close the cursor and connection\n",
    "cursor.close()\n",
    "connection.close()\n",
    "\n",
    "print(\"Data inserted into the Oracle database.\")\n",
    "\n",
    "    "
   ]
  },
  {
   "cell_type": "code",
   "execution_count": null,
   "id": "2ec7b311",
   "metadata": {},
   "outputs": [],
   "source": []
  }
 ],
 "metadata": {
  "kernelspec": {
   "display_name": "Python 3 (ipykernel)",
   "language": "python",
   "name": "python3"
  },
  "language_info": {
   "codemirror_mode": {
    "name": "ipython",
    "version": 3
   },
   "file_extension": ".py",
   "mimetype": "text/x-python",
   "name": "python",
   "nbconvert_exporter": "python",
   "pygments_lexer": "ipython3",
   "version": "3.11.3"
  }
 },
 "nbformat": 4,
 "nbformat_minor": 5
}
