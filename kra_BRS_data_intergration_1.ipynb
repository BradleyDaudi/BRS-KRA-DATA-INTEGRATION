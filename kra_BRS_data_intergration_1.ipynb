{
 "cells": [
  {
   "cell_type": "markdown",
   "id": "7d1f413d",
   "metadata": {},
   "source": [
    "### step 1"
   ]
  },
  {
   "cell_type": "code",
   "execution_count": 9,
   "id": "f52bc3bb",
   "metadata": {},
   "outputs": [
    {
     "name": "stdout",
     "output_type": "stream",
     "text": [
      "Requirement already satisfied: cx_Oracle in c:\\users\\cynthia j\\appdata\\local\\programs\\python\\python311\\lib\\site-packages (8.3.0)\n"
     ]
    },
    {
     "name": "stderr",
     "output_type": "stream",
     "text": [
      "\n",
      "[notice] A new release of pip is available: 23.2.1 -> 23.3.1\n",
      "[notice] To update, run: python.exe -m pip install --upgrade pip\n"
     ]
    }
   ],
   "source": [
    "#installing the Oracle Sql library to enable access\n",
    "!pip install cx_Oracle"
   ]
  },
  {
   "cell_type": "code",
   "execution_count": 10,
   "id": "89155754",
   "metadata": {},
   "outputs": [],
   "source": [
    "#importing the library so as to access Oracle SQL database\n",
    "import cx_Oracle"
   ]
  },
  {
   "cell_type": "code",
   "execution_count": 11,
   "id": "7cbb0dcd",
   "metadata": {},
   "outputs": [
    {
     "name": "stdout",
     "output_type": "stream",
     "text": [
      "Note: you may need to restart the kernel to use updated packages.Requirement already satisfied: pymysql in c:\\users\\cynthia j\\appdata\\roaming\\python\\python311\\site-packages (1.1.0)\n",
      "\n"
     ]
    },
    {
     "name": "stderr",
     "output_type": "stream",
     "text": [
      "\n",
      "[notice] A new release of pip is available: 23.2.1 -> 23.3.1\n",
      "[notice] To update, run: python.exe -m pip install --upgrade pip\n"
     ]
    }
   ],
   "source": [
    "pip install --user pymysql"
   ]
  },
  {
   "cell_type": "code",
   "execution_count": 12,
   "id": "d1a02c45",
   "metadata": {},
   "outputs": [
    {
     "name": "stdout",
     "output_type": "stream",
     "text": [
      "Requirement already satisfied: pymysql in c:\\users\\cynthia j\\appdata\\roaming\\python\\python311\\site-packages (1.1.0)\n",
      "Note: you may need to restart the kernel to use updated packages.\n"
     ]
    },
    {
     "name": "stderr",
     "output_type": "stream",
     "text": [
      "\n",
      "[notice] A new release of pip is available: 23.2.1 -> 23.3.1\n",
      "[notice] To update, run: python.exe -m pip install --upgrade pip\n"
     ]
    }
   ],
   "source": [
    "pip install pymysql"
   ]
  },
  {
   "cell_type": "code",
   "execution_count": 13,
   "id": "84963747",
   "metadata": {},
   "outputs": [
    {
     "name": "stdout",
     "output_type": "stream",
     "text": [
      "Requirement already satisfied: requests in c:\\users\\cynthia j\\appdata\\local\\programs\\python\\python311\\lib\\site-packages (2.28.2)Note: you may need to restart the kernel to use updated packages.\n",
      "\n",
      "Requirement already satisfied: charset-normalizer<4,>=2 in c:\\users\\cynthia j\\appdata\\local\\programs\\python\\python311\\lib\\site-packages (from requests) (3.0.1)\n",
      "Requirement already satisfied: idna<4,>=2.5 in c:\\users\\cynthia j\\appdata\\local\\programs\\python\\python311\\lib\\site-packages (from requests) (3.4)\n",
      "Requirement already satisfied: urllib3<1.27,>=1.21.1 in c:\\users\\cynthia j\\appdata\\local\\programs\\python\\python311\\lib\\site-packages (from requests) (1.26.14)\n",
      "Requirement already satisfied: certifi>=2017.4.17 in c:\\users\\cynthia j\\appdata\\local\\programs\\python\\python311\\lib\\site-packages (from requests) (2022.12.7)\n"
     ]
    },
    {
     "name": "stderr",
     "output_type": "stream",
     "text": [
      "\n",
      "[notice] A new release of pip is available: 23.2.1 -> 23.3.1\n",
      "[notice] To update, run: python.exe -m pip install --upgrade pip\n"
     ]
    }
   ],
   "source": [
    "pip install requests"
   ]
  },
  {
   "cell_type": "code",
   "execution_count": 14,
   "id": "b6d18f1a",
   "metadata": {},
   "outputs": [],
   "source": [
    "import json\n",
    "import requests\n",
    "import os"
   ]
  },
  {
   "cell_type": "code",
   "execution_count": 15,
   "id": "8b568854",
   "metadata": {},
   "outputs": [
    {
     "name": "stdout",
     "output_type": "stream",
     "text": [
      "JSON data successfully stored in data.json\n"
     ]
    }
   ],
   "source": [
    "# Define the URL\n",
    "url = \"https://brs.ecitizen.go.ke/api/businesses?registration_number=C.112728\"\n",
    "username = \"62982ca9a761e71d97627fe6dc89f96b\"  # Replace with your actual username\n",
    "password = \"gejnixwq6zcks3yaxatogcl4wgbbkk2pkzlcmwhggjxxaag2hyfq====\"   # Replace with your actual password\n",
    "\n",
    "# Make a GET request to fetch the JSON data with authentication\n",
    "response = requests.get(url, auth=(username, password))\n",
    "\n",
    "# Check if the request was successful\n",
    "if response.status_code == 200:\n",
    "    # Load the JSON data\n",
    "    data = response.json()\n",
    "\n",
    "    # Define the file path\n",
    "    file_path = 'data.json'\n",
    "\n",
    "    # Store the JSON data in a file\n",
    "    with open(file_path, 'w') as f:\n",
    "        json.dump(data, f, indent=4)\n",
    "        print(f\"JSON data successfully stored in {file_path}\")\n",
    "else:\n",
    "    print(f\"Failed to fetch data from the URL. Status code: {response.status_code}\")\n",
    "\n"
   ]
  },
  {
   "cell_type": "code",
   "execution_count": 26,
   "id": "dc554db7",
   "metadata": {},
   "outputs": [
    {
     "name": "stdout",
     "output_type": "stream",
     "text": [
      "                                             records  count\n",
      "0  {'status': 'registered', 'registration_date': ...      1\n"
     ]
    },
    {
     "ename": "DatabaseError",
     "evalue": "DPI-1047: Cannot locate a 64-bit Oracle Client library: \"D:\\app\\client\\Cheptoo\\product\\12.1.0\\client_1\\bin\\oci.dll is not the correct architecture\". See https://cx-oracle.readthedocs.io/en/latest/user_guide/installation.html for help",
     "output_type": "error",
     "traceback": [
      "\u001b[1;31m---------------------------------------------------------------------------\u001b[0m",
      "\u001b[1;31mDatabaseError\u001b[0m                             Traceback (most recent call last)",
      "Cell \u001b[1;32mIn[26], line 17\u001b[0m\n\u001b[0;32m     15\u001b[0m \u001b[39m# Set up the Oracle connection\u001b[39;00m\n\u001b[0;32m     16\u001b[0m dsn \u001b[39m=\u001b[39m cx_Oracle\u001b[39m.\u001b[39mmakedsn(host\u001b[39m=\u001b[39m\u001b[39m'\u001b[39m\u001b[39m'\u001b[39m, port\u001b[39m=\u001b[39m\u001b[39m1521\u001b[39m, sid\u001b[39m=\u001b[39m\u001b[39m'\u001b[39m\u001b[39m'\u001b[39m)  \u001b[39m# Replace with your SID\u001b[39;00m\n\u001b[1;32m---> 17\u001b[0m connection \u001b[39m=\u001b[39m cx_Oracle\u001b[39m.\u001b[39;49mconnect(user\u001b[39m=\u001b[39;49m\u001b[39m'\u001b[39;49m\u001b[39m'\u001b[39;49m, password\u001b[39m=\u001b[39;49m\u001b[39m'\u001b[39;49m\u001b[39m'\u001b[39;49m, dsn\u001b[39m=\u001b[39;49mdsn)\n\u001b[0;32m     18\u001b[0m cursor \u001b[39m=\u001b[39m connection\u001b[39m.\u001b[39mcursor()\n\u001b[0;32m     20\u001b[0m \u001b[39m# Iterate through the JSON data and insert it into the Oracle database\u001b[39;00m\n",
      "\u001b[1;31mDatabaseError\u001b[0m: DPI-1047: Cannot locate a 64-bit Oracle Client library: \"D:\\app\\client\\Cheptoo\\product\\12.1.0\\client_1\\bin\\oci.dll is not the correct architecture\". See https://cx-oracle.readthedocs.io/en/latest/user_guide/installation.html for help"
     ]
    }
   ],
   "source": [
    "import cx_Oracle\n",
    "import pandas as pd\n",
    "\n",
    "\n",
    "# Load the JSON data from the file\n",
    "with open('data.json', 'r') as file:\n",
    "    brs = file.read()\n",
    "    obj = json.loads(brs)\n",
    "\n",
    "#convert json to dataframe\n",
    "df = pd.DataFrame.from_dict(obj)\n",
    "df['records'].shape\n",
    "print(df)\n",
    "\n",
    "# Set up the Oracle connection\n",
    "dsn = cx_Oracle.makedsn(host='', port=1521, sid='')  # Replace with your SID\n",
    "connection = cx_Oracle.connect(user='', password='', dsn=dsn)\n",
    "cursor = connection.cursor()\n",
    "\n",
    "# Iterate through the JSON data and insert it into the Oracle database\n",
    "for record in json_obj['records']:\n",
    "    status = record['status']\n",
    "    registration_date = record['registration_date']\n",
    "    postal_address = record['postal_address']\n",
    "    physical_address = record['physical_address']\n",
    "    phone_number = record['phone_number']\n",
    "    kra_pin = record['kra_pin']\n",
    "    email = record['email']\n",
    "    business_name = record['business_name']\n",
    "\n",
    "    # Oracle insertion query\n",
    "    sql = f\"\"\"INSERT INTO your_table_name (status, registration_date, postal_address, physical_address, phone_number, kra_pin, email, business_name)\n",
    "             VALUES (:status, TO_DATE(:registration_date, 'DD Month YYYY'), :postal_address, :physical_address, :phone_number, :kra_pin, :email, :business_name)\"\"\"\n",
    "    data = {\n",
    "        'status': status,\n",
    "        'registration_date': registration_date,\n",
    "        'postal_address': postal_address,\n",
    "        'physical_address': physical_address,\n",
    "        'phone_number': phone_number,\n",
    "        'kra_pin': kra_pin,\n",
    "        'email': email,\n",
    "        'business_name': business_name\n",
    "    }\n",
    "\n",
    "    # Execute the query\n",
    "    cursor.execute(sql, data)\n",
    "\n",
    "# Commit the changes\n",
    "connection.commit()\n",
    "\n",
    "# Close the cursor and connection\n",
    "cursor.close()\n",
    "connection.close()\n",
    "\n",
    "print(\"Data inserted into the Oracle database.\")\n",
    "\n",
    "    "
   ]
  },
  {
   "cell_type": "code",
   "execution_count": null,
   "id": "2ec7b311",
   "metadata": {},
   "outputs": [],
   "source": []
  }
 ],
 "metadata": {
  "kernelspec": {
   "display_name": "Python 3 (ipykernel)",
   "language": "python",
   "name": "python3"
  },
  "language_info": {
   "codemirror_mode": {
    "name": "ipython",
    "version": 3
   },
   "file_extension": ".py",
   "mimetype": "text/x-python",
   "name": "python",
   "nbconvert_exporter": "python",
   "pygments_lexer": "ipython3",
   "version": "3.11.3"
  }
 },
 "nbformat": 4,
 "nbformat_minor": 5
}
