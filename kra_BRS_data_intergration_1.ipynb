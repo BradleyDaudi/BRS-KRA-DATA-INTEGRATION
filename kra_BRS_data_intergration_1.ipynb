{
 "cells": [
  {
   "cell_type": "markdown",
   "id": "7d1f413d",
   "metadata": {},
   "source": [
    "### step 1"
   ]
  },
  {
   "cell_type": "code",
<<<<<<< HEAD
   "execution_count": 1,
   "id": "b29c6526",
=======
   "execution_count": 11,
   "id": "e262f77e",
   "metadata": {},
   "outputs": [
    {
     "name": "stdout",
     "output_type": "stream",
     "text": [
      "Collecting cx_Oracle\n",
      "  Using cached cx_Oracle-8.3.0.tar.gz (363 kB)\n",
      "  Installing build dependencies: started\n",
      "  Installing build dependencies: finished with status 'done'\n",
      "  Getting requirements to build wheel: started\n",
      "  Getting requirements to build wheel: finished with status 'done'\n",
      "  Preparing metadata (pyproject.toml): started\n",
      "  Preparing metadata (pyproject.toml): finished with status 'done'\n",
      "Building wheels for collected packages: cx_Oracle\n",
      "  Building wheel for cx_Oracle (pyproject.toml): started\n",
      "  Building wheel for cx_Oracle (pyproject.toml): finished with status 'error'\n",
      "Failed to build cx_Oracle\n",
      "Note: you may need to restart the kernel to use updated packages.\n"
     ]
    },
    {
     "name": "stderr",
     "output_type": "stream",
     "text": [
      "  error: subprocess-exited-with-error\n",
      "  \n",
      "  Building wheel for cx_Oracle (pyproject.toml) did not run successfully.\n",
      "  exit code: 1\n",
      "  \n",
      "  [8 lines of output]\n",
      "  <string>:6: DeprecationWarning: pkg_resources is deprecated as an API. See https://setuptools.pypa.io/en/latest/pkg_resources.html\n",
      "  C:\\Users\\USER\\AppData\\Local\\Temp\\pip-build-env-vo9o895r\\overlay\\Lib\\site-packages\\setuptools\\config\\expand.py:134: SetuptoolsWarning: File 'C:\\\\Users\\\\USER\\\\AppData\\\\Local\\\\Temp\\\\pip-install-ilu3ak6u\\\\cx-oracle_565a603301f24db99ef879ea9d27b787\\\\README.md' cannot be found\n",
      "    return '\\n'.join(\n",
      "  running bdist_wheel\n",
      "  running build\n",
      "  running build_ext\n",
      "  building 'cx_Oracle' extension\n",
      "  error: Microsoft Visual C++ 14.0 or greater is required. Get it with \"Microsoft C++ Build Tools\": https://visualstudio.microsoft.com/visual-cpp-build-tools/\n",
      "  [end of output]\n",
      "  \n",
      "  note: This error originates from a subprocess, and is likely not a problem with pip.\n",
      "  ERROR: Failed building wheel for cx_Oracle\n",
      "ERROR: Could not build wheels for cx_Oracle, which is required to install pyproject.toml-based projects\n"
     ]
    }
   ],
   "source": [
    "%pip install cx_Oracle"
   ]
  },
  {
   "cell_type": "code",
   "execution_count": 9,
   "id": "89155754",
>>>>>>> e1071c691ee83dfe47e96969d59e9bfc8c71d779
   "metadata": {},
   "outputs": [
    {
     "ename": "ModuleNotFoundError",
     "evalue": "No module named 'cx_Oracle'",
     "output_type": "error",
     "traceback": [
      "\u001b[1;31m---------------------------------------------------------------------------\u001b[0m",
      "\u001b[1;31mModuleNotFoundError\u001b[0m                       Traceback (most recent call last)",
      "Cell \u001b[1;32mIn[1], line 4\u001b[0m\n\u001b[0;32m      2\u001b[0m \u001b[38;5;28;01mimport\u001b[39;00m \u001b[38;5;21;01mrequests\u001b[39;00m\n\u001b[0;32m      3\u001b[0m \u001b[38;5;28;01mimport\u001b[39;00m \u001b[38;5;21;01mpymysql\u001b[39;00m\n\u001b[1;32m----> 4\u001b[0m \u001b[38;5;28;01mimport\u001b[39;00m \u001b[38;5;21;01mcx_Oracle\u001b[39;00m\n\u001b[0;32m      5\u001b[0m \u001b[38;5;28;01mimport\u001b[39;00m \u001b[38;5;21;01mOS\u001b[39;00m\n",
      "\u001b[1;31mModuleNotFoundError\u001b[0m: No module named 'cx_Oracle'"
     ]
    }
   ],
   "source": [
    "import json\n",
    "import requests\n",
    "import pymysql\n",
<<<<<<< HEAD
    "import cx_Oracle\n",
    "import OS"
=======
    "import os"
>>>>>>> e1071c691ee83dfe47e96969d59e9bfc8c71d779
   ]
  },
  {
   "cell_type": "code",
<<<<<<< HEAD
   "execution_count": 2,
   "id": "a726d3d3",
=======
   "execution_count": 8,
   "id": "7cbb0dcd",
>>>>>>> e1071c691ee83dfe47e96969d59e9bfc8c71d779
   "metadata": {},
   "outputs": [
    {
     "name": "stdout",
     "output_type": "stream",
     "text": [
      "Collecting cx_Oracle"
     ]
    },
    {
     "name": "stderr",
     "output_type": "stream",
     "text": [
      "  error: subprocess-exited-with-error\n",
      "  \n",
      "  Building wheel for cx_Oracle (pyproject.toml) did not run successfully.\n",
      "  exit code: 1\n",
      "  \n",
      "  [8 lines of output]\n",
      "  <string>:6: DeprecationWarning: pkg_resources is deprecated as an API. See https://setuptools.pypa.io/en/latest/pkg_resources.html\n",
      "  C:\\Users\\admin\\AppData\\Local\\Temp\\pip-build-env-whdvcbro\\overlay\\Lib\\site-packages\\setuptools\\config\\expand.py:134: SetuptoolsWarning: File 'C:\\\\Users\\\\admin\\\\AppData\\\\Local\\\\Temp\\\\pip-install-ysymldxb\\\\cx-oracle_52d911ca9b134be18f612c5aafc520f6\\\\README.md' cannot be found\n",
      "    return '\\n'.join(\n",
      "  running bdist_wheel\n",
      "  running build\n",
      "  running build_ext\n",
      "  building 'cx_Oracle' extension\n",
      "  error: Microsoft Visual C++ 14.0 or greater is required. Get it with \"Microsoft C++ Build Tools\": https://visualstudio.microsoft.com/visual-cpp-build-tools/\n",
      "  [end of output]\n",
      "  \n",
      "  note: This error originates from a subprocess, and is likely not a problem with pip.\n",
      "  ERROR: Failed building wheel for cx_Oracle\n",
      "ERROR: Could not build wheels for cx_Oracle, which is required to install pyproject.toml-based projects\n"
     ]
    },
    {
     "name": "stdout",
     "output_type": "stream",
     "text": [
      "\n",
      "  Using cached cx_Oracle-8.3.0.tar.gz (363 kB)\n",
      "  Installing build dependencies: started\n",
      "  Installing build dependencies: finished with status 'done'\n",
      "  Getting requirements to build wheel: started\n",
      "  Getting requirements to build wheel: finished with status 'done'\n",
      "  Preparing metadata (pyproject.toml): started\n",
      "  Preparing metadata (pyproject.toml): finished with status 'done'\n",
      "Building wheels for collected packages: cx_Oracle\n",
      "  Building wheel for cx_Oracle (pyproject.toml): started\n",
      "  Building wheel for cx_Oracle (pyproject.toml): finished with status 'error'\n",
      "Failed to build cx_Oracle\n"
     ]
    }
   ],
   "source": [
    "#pip install --user pymysql\n",
    "!pip install cx_Oracle"
   ]
  },
  {
   "cell_type": "code",
<<<<<<< HEAD
   "execution_count": 7,
   "id": "b9b61dcc",
=======
   "execution_count": 2,
   "id": "8b568854",
>>>>>>> e1071c691ee83dfe47e96969d59e9bfc8c71d779
   "metadata": {},
   "outputs": [
    {
     "name": "stdout",
     "output_type": "stream",
     "text": [
      "JSON data successfully stored in data.json\n"
     ]
    }
   ],
   "source": [
    "# Define the URL\n",
    "url = \"https://brs.ecitizen.go.ke/api/businesses?registration_number=C.112728\"\n",
    "username = \"62982ca9a761e71d97627fe6dc89f96b\"  # Replace with your actual username\n",
    "password = \"gejnixwq6zcks3yaxatogcl4wgbbkk2pkzlcmwhggjxxaag2hyfq====\"   # Replace with your actual password\n",
    "\n",
    "# Make a GET request to fetch the JSON data with authentication\n",
    "response = requests.get(url, auth=(username, password))\n",
    "\n",
    "# Check if the request was successful\n",
    "if response.status_code == 200:\n",
    "    # Load the JSON data\n",
    "    data = response.json()\n",
    "\n",
    "    # Define the file path\n",
    "    file_path = 'data.json'\n",
    "\n",
    "    # Store the JSON data in a file\n",
    "    with open(file_path, 'w') as f:\n",
    "        json.dump(data, f, indent=4)\n",
    "        print(f\"JSON data successfully stored in {file_path}\")\n",
    "else:\n",
    "    print(f\"Failed to fetch data from the URL. Status code: {response.status_code}\")\n",
    "\n"
   ]
  },
  {
   "cell_type": "code",
   "execution_count": 10,
   "id": "dc554db7",
   "metadata": {},
   "outputs": [
    {
     "ename": "ModuleNotFoundError",
     "evalue": "No module named 'cx_Oracle'",
     "output_type": "error",
     "traceback": [
      "\u001b[1;31m---------------------------------------------------------------------------\u001b[0m",
      "\u001b[1;31mModuleNotFoundError\u001b[0m                       Traceback (most recent call last)",
      "Cell \u001b[1;32mIn[10], line 1\u001b[0m\n\u001b[1;32m----> 1\u001b[0m \u001b[38;5;28;01mimport\u001b[39;00m \u001b[38;5;21;01mcx_Oracle\u001b[39;00m\n\u001b[0;32m      4\u001b[0m \u001b[38;5;66;03m# Load the JSON data from the file\u001b[39;00m\n\u001b[0;32m      5\u001b[0m \u001b[38;5;28;01mwith\u001b[39;00m \u001b[38;5;28mopen\u001b[39m(\u001b[38;5;124m'\u001b[39m\u001b[38;5;124mdata.json\u001b[39m\u001b[38;5;124m'\u001b[39m, \u001b[38;5;124m'\u001b[39m\u001b[38;5;124mr\u001b[39m\u001b[38;5;124m'\u001b[39m) \u001b[38;5;28;01mas\u001b[39;00m json_file:\n",
      "\u001b[1;31mModuleNotFoundError\u001b[0m: No module named 'cx_Oracle'"
     ]
    }
   ],
   "source": [
    "import cx_Oracle\n",
    "import pandas as pd\n",
    "#import psycppg --- connection to postgre\n",
    "\n",
    "# Load the JSON data from the file\n",
    "with open('data.json', 'r') as json_file:\n",
    "    json_data = json_file.read()\n",
    "    json_obj = json.loads(json_data)\n",
    "\n",
    "# Set up the Oracle connection\n",
    "dsn = cx_Oracle.makedsn(host='localhost', port=1521, sid='your_sid')  # Replace with your SID\n",
    "connection = cx_Oracle.connect(user='INSIGHT', password='insight', dsn=dsn)\n",
    "cursor = connection.cursor()\n",
    "\n",
    "connection_prod = cx_Oracle.connect(\"T37467154/BMukami#2023@DM03-SCAN.KRA.GOV:1521/DWDB\")\n",
    "print(connection_prod.version)\n",
    "\n",
    "\n",
    "\n",
    "\n",
    "\n",
    "    "
   ]
  },
  {
   "cell_type": "code",
   "execution_count": null,
   "id": "44963a04",
   "metadata": {},
   "outputs": [],
   "source": [
    "# Iterate through the JSON data and insert it into the Oracle database\n",
    "for record in json_obj['records']:\n",
    "    status = record['status']\n",
    "    registration_date = record['registration_date']\n",
    "    postal_address = record['postal_address']\n",
    "    physical_address = record['physical_address']\n",
    "    phone_number = record['phone_number']\n",
    "    kra_pin = record['kra_pin']\n",
    "    email = record['email']\n",
    "    business_name = record['business_name']\n",
    "\n",
    "    # Oracle insertion query\n",
    "    sql = \"\"\"INSERT INTO your_table_name (status, registration_date, postal_address, physical_address, phone_number, kra_pin, email, business_name)\n",
    "             VALUES (:status, TO_DATE(:registration_date, 'DD Month YYYY'), :postal_address, :physical_address, :phone_number, :kra_pin, :email, :business_name)\"\"\"\n",
    "    data = {\n",
    "        'status': status,\n",
    "        'registration_date': registration_date,\n",
    "        'postal_address': postal_address,\n",
    "        'physical_address': physical_address,\n",
    "        'phone_number': phone_number,\n",
    "        'kra_pin': kra_pin,\n",
    "        'email': email,\n",
    "        'business_name': business_name\n",
    "    }\n",
    "\n",
    "    # Execute the query\n",
    "    cursor.execute(sql, data)\n",
    "\n",
    "# Commit the changes\n",
    "connection.commit()\n",
    "\n",
    "# Close the cursor and connection\n",
    "cursor.close()\n",
    "connection.close()\n",
    "\n",
    "print(\"Data inserted into the Oracle database.\")"
   ]
  },
  {
   "cell_type": "code",
   "execution_count": null,
   "id": "2ec7b311",
   "metadata": {},
   "outputs": [],
   "source": []
  }
 ],
 "metadata": {
  "kernelspec": {
   "display_name": "Python 3 (ipykernel)",
   "language": "python",
   "name": "python3"
  },
  "language_info": {
   "codemirror_mode": {
    "name": "ipython",
    "version": 3
   },
   "file_extension": ".py",
   "mimetype": "text/x-python",
   "name": "python",
   "nbconvert_exporter": "python",
   "pygments_lexer": "ipython3",
   "version": "3.11.3"
  }
 },
 "nbformat": 4,
 "nbformat_minor": 5
}
