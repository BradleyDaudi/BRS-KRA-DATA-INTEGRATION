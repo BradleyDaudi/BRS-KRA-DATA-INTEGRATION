{
 "cells": [
  {
   "cell_type": "markdown",
   "id": "7d1f413d",
   "metadata": {},
   "source": [
    "### step 1"
   ]
  },
  {
   "cell_type": "code",
   "execution_count": 9,
   "id": "89155754",
   "metadata": {},
   "outputs": [],
   "source": [
    "import json\n",
    "import requests\n",
    "import pymysql"
   ]
  },
  {
   "cell_type": "code",
   "execution_count": 8,
   "id": "7cbb0dcd",
   "metadata": {},
   "outputs": [
    {
     "name": "stdout",
     "output_type": "stream",
     "text": [
      "Collecting pymysql\n",
      "  Obtaining dependency information for pymysql from https://files.pythonhosted.org/packages/e5/30/20467e39523d0cfc2b6227902d3687a16364307260c75e6a1cb4422b0c62/PyMySQL-1.1.0-py3-none-any.whl.metadata\n",
      "  Downloading PyMySQL-1.1.0-py3-none-any.whl.metadata (4.4 kB)\n",
      "Downloading PyMySQL-1.1.0-py3-none-any.whl (44 kB)\n",
      "   ---------------------------------------- 0.0/44.8 kB ? eta -:--:--\n",
      "   --------- ------------------------------ 10.2/44.8 kB ? eta -:--:--\n",
      "   ------------------ --------------------- 20.5/44.8 kB 320.0 kB/s eta 0:00:01\n",
      "   ---------------------------------------- 44.8/44.8 kB 367.3 kB/s eta 0:00:00\n",
      "Installing collected packages: pymysql\n",
      "Successfully installed pymysql-1.1.0\n",
      "Note: you may need to restart the kernel to use updated packages.\n"
     ]
    }
   ],
   "source": [
    "pip install --user pymysql"
   ]
  },
  {
   "cell_type": "code",
   "execution_count": 15,
   "id": "8b568854",
   "metadata": {},
   "outputs": [
    {
     "name": "stdout",
     "output_type": "stream",
     "text": [
      "JSON data successfully stored in data.json\n"
     ]
    }
   ],
   "source": [
    "# Define the URL\n",
    "url = \"https://brs.ecitizen.go.ke/api/businesses?registration_number=C.112728\"\n",
    "username = \"62982ca9a761e71d97627fe6dc89f96b\"  # Replace with your actual username\n",
    "password = \"gejnixwq6zcks3yaxatogcl4wgbbkk2pkzlcmwhggjxxaag2hyfq====\"   # Replace with your actual password\n",
    "\n",
    "# Make a GET request to fetch the JSON data with authentication\n",
    "response = requests.get(url, auth=(username, password))\n",
    "\n",
    "# Check if the request was successful\n",
    "if response.status_code == 200:\n",
    "    # Load the JSON data\n",
    "    data = response.json()\n",
    "\n",
    "    # Define the file path\n",
    "    file_path = 'data.json'\n",
    "\n",
    "    # Store the JSON data in a file\n",
    "    with open(file_path, 'w') as f:\n",
    "        json.dump(data, f, indent=4)\n",
    "        print(f\"JSON data successfully stored in {file_path}\")\n",
    "else:\n",
    "    print(f\"Failed to fetch data from the URL. Status code: {response.status_code}\")\n",
    "\n"
   ]
  },
  {
   "cell_type": "code",
   "execution_count": null,
   "id": "dc554db7",
   "metadata": {},
   "outputs": [],
   "source": [
    "import cx_Oracle\n",
    "\n",
    "\n",
    "# Load the JSON data from the file\n",
    "with open('data.json', 'r') as json_file:\n",
    "    json_data = json_file.read()\n",
    "    json_obj = json.loads(json_data)\n",
    "\n",
    "# Set up the Oracle connection\n",
    "dsn = cx_Oracle.makedsn(host='localhost', port=1521, sid='your_sid')  # Replace with your SID\n",
    "connection = cx_Oracle.connect(user='your_username', password='your_password', dsn=dsn)\n",
    "cursor = connection.cursor()\n",
    "\n",
    "# Iterate through the JSON data and insert it into the Oracle database\n",
    "for record in json_obj['records']:\n",
    "    status = record['status']\n",
    "    registration_date = record['registration_date']\n",
    "    postal_address = record['postal_address']\n",
    "    physical_address = record['physical_address']\n",
    "    phone_number = record['phone_number']\n",
    "    kra_pin = record['kra_pin']\n",
    "    email = record['email']\n",
    "    business_name = record['business_name']\n",
    "\n",
    "    # Oracle insertion query\n",
    "    sql = \"\"\"INSERT INTO your_table_name (status, registration_date, postal_address, physical_address, phone_number, kra_pin, email, business_name)\n",
    "             VALUES (:status, TO_DATE(:registration_date, 'DD Month YYYY'), :postal_address, :physical_address, :phone_number, :kra_pin, :email, :business_name)\"\"\"\n",
    "    data = {\n",
    "        'status': status,\n",
    "        'registration_date': registration_date,\n",
    "        'postal_address': postal_address,\n",
    "        'physical_address': physical_address,\n",
    "        'phone_number': phone_number,\n",
    "        'kra_pin': kra_pin,\n",
    "        'email': email,\n",
    "        'business_name': business_name\n",
    "    }\n",
    "\n",
    "    # Execute the query\n",
    "    cursor.execute(sql, data)\n",
    "\n",
    "# Commit the changes\n",
    "connection.commit()\n",
    "\n",
    "# Close the cursor and connection\n",
    "cursor.close()\n",
    "connection.close()\n",
    "\n",
    "print(\"Data inserted into the Oracle database.\")\n",
    "\n",
    "    "
   ]
  }
 ],
 "metadata": {
  "kernelspec": {
   "display_name": "Python 3 (ipykernel)",
   "language": "python",
   "name": "python3"
  },
  "language_info": {
   "codemirror_mode": {
    "name": "ipython",
    "version": 3
   },
   "file_extension": ".py",
   "mimetype": "text/x-python",
   "name": "python",
   "nbconvert_exporter": "python",
   "pygments_lexer": "ipython3",
   "version": "3.11.5"
  }
 },
 "nbformat": 4,
 "nbformat_minor": 5
}
